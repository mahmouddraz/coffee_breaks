{
  "nbformat": 4,
  "nbformat_minor": 0,
  "metadata": {
    "colab": {
      "name": "Coffe_breaks.ipynb",
      "provenance": [],
      "private_outputs": true,
      "collapsed_sections": [],
      "mount_file_id": "1lTcKh3Ptid_eft_V4aN9FwAKBLTRZ36i",
      "authorship_tag": "ABX9TyPD8orPiim/qpS8XHQql17I",
      "include_colab_link": true
    },
    "kernelspec": {
      "name": "python3",
      "display_name": "Python 3"
    },
    "language_info": {
      "name": "python"
    }
  },
  "cells": [
    {
      "cell_type": "markdown",
      "metadata": {
        "id": "view-in-github",
        "colab_type": "text"
      },
      "source": [
        "<a href=\"https://colab.research.google.com/github/mahmouddraz/coffee_breaks/blob/main/Coffe_breaks.ipynb\" target=\"_parent\"><img src=\"https://colab.research.google.com/assets/colab-badge.svg\" alt=\"Open In Colab\"/></a>"
      ]
    },
    {
      "cell_type": "markdown",
      "source": [
        " # Upload an excel/csv contains the employees's names, emails"
      ],
      "metadata": {
        "id": "aFBWAOjfPL7J"
      }
    },
    {
      "cell_type": "code",
      "source": [
        "from google.colab import files\n",
        "uploaded = files.upload()"
      ],
      "metadata": {
        "id": "XVpOViATOeD3"
      },
      "execution_count": null,
      "outputs": []
    },
    {
      "cell_type": "markdown",
      "source": [
        "# Enter you email login data "
      ],
      "metadata": {
        "id": "CiABtmdzPjJp"
      }
    },
    {
      "cell_type": "code",
      "source": [
        "user_name = \"hr@me.me\"\n",
        "password = \"password\""
      ],
      "metadata": {
        "id": "8ADnRiGaUOMY"
      },
      "execution_count": null,
      "outputs": []
    },
    {
      "cell_type": "markdown",
      "source": [
        "# Import packges"
      ],
      "metadata": {
        "id": "Wt6uFPczvX8o"
      }
    },
    {
      "cell_type": "code",
      "source": [
        "pip install icalendar "
      ],
      "metadata": {
        "id": "T5RhPLWORZpu"
      },
      "execution_count": null,
      "outputs": []
    },
    {
      "cell_type": "code",
      "source": [
        "pip install openpyxl==3.0.9"
      ],
      "metadata": {
        "id": "1VfAepzkRU6n"
      },
      "execution_count": null,
      "outputs": []
    },
    {
      "cell_type": "code",
      "execution_count": null,
      "metadata": {
        "id": "okjQl5ylYVSg"
      },
      "outputs": [],
      "source": [
        "import random\n",
        "import itertools\n",
        "import pandas as pd\n",
        "import numpy as np \n",
        "import calendar\n",
        "import datetime\n",
        "import smtplib\n",
        "from email.mime.text import MIMEText\n",
        "from email.mime.multipart import MIMEMultipart\n",
        "from email.mime.application import MIMEApplication\n",
        "from icalendar import Calendar, Event\n",
        "import datetime\n",
        "import pytz"
      ]
    },
    {
      "cell_type": "markdown",
      "source": [
        "# How to use the tool"
      ],
      "metadata": {
        "id": "BuBwGFXpAfhP"
      }
    },
    {
      "cell_type": "markdown",
      "source": [
        "1. Enter your login details in the top cell and the password of the email you want to send from. \n",
        "2. Select from the Runetime menu and select \"Run All\". That's it!"
      ],
      "metadata": {
        "id": "EI3jvrGIU2ku"
      }
    },
    {
      "cell_type": "markdown",
      "source": [
        "# Get all possible combinations from the name list."
      ],
      "metadata": {
        "id": "xc_s7AGorboe"
      }
    },
    {
      "cell_type": "code",
      "source": [
        "def get_combinations(names):\n",
        "    '''\n",
        "    Get all combinations of names\n",
        "    '''\n",
        "    combinations = list(itertools.combinations(names, 2))\n",
        "    return combinations"
      ],
      "metadata": {
        "id": "WmqusqbAi2Gq"
      },
      "execution_count": null,
      "outputs": []
    },
    {
      "cell_type": "markdown",
      "source": [
        "# Find the all possible pairs for a certain person"
      ],
      "metadata": {
        "id": "xFsfoKpyrlyU"
      }
    },
    {
      "cell_type": "code",
      "source": [
        "def find_person_pair(combinations, name):\n",
        "    '''\n",
        "    Find all combination for certain emolopyee\n",
        "    '''\n",
        "    person_pairs_list = []\n",
        "\n",
        "    for pair in combinations:\n",
        "\n",
        "        if name in pair:\n",
        "            person_pairs_list.append(pair)\n",
        "            \n",
        "    return person_pairs_list"
      ],
      "metadata": {
        "id": "LN_Zh59Avl2n"
      },
      "execution_count": null,
      "outputs": []
    },
    {
      "cell_type": "code",
      "source": [
        "# remove non-selected combinations \n",
        "def remove_list_items(list_items, items_to_remove):\n",
        "    return [item for item in list_items if item not in items_to_remove]"
      ],
      "metadata": {
        "id": "-c4RirPiyAc_"
      },
      "execution_count": null,
      "outputs": []
    },
    {
      "cell_type": "markdown",
      "source": [
        "# Sample form the pairs list with a uniform distribution"
      ],
      "metadata": {
        "id": "WETXf6H2rxLJ"
      }
    },
    {
      "cell_type": "code",
      "source": [
        "def random_sampling(combinations, name_list):\n",
        "    '''\n",
        "    Takes a list of strings and returns a list of random samples of those strings\n",
        "    '''\n",
        "    sample_list = []\n",
        "    while len(combinations) > 0:\n",
        "      for name in name_list:\n",
        "        \n",
        "        person1_pairs_list = find_person_pair(combinations, name)\n",
        "        if len(person1_pairs_list) == 0: \n",
        "          continue\n",
        "        sample = random.choice(person1_pairs_list)\n",
        "\n",
        "        sample_list.append(sample)\n",
        "        \n",
        "        person2_pairs_list = find_person_pair(combinations, sample[1])\n",
        "        person2_pairs_list.remove(sample)\n",
        "\n",
        "        combinations = remove_list_items(combinations, person1_pairs_list+person2_pairs_list)\n",
        "        if len(combinations) == 0:\n",
        "          break \n",
        "    return sample_list"
      ],
      "metadata": {
        "id": "qmiIjhbSrFg3"
      },
      "execution_count": null,
      "outputs": []
    },
    {
      "cell_type": "markdown",
      "source": [
        "# Send email to the coffee mates with a calender"
      ],
      "metadata": {
        "id": "Gah3ZH2G_m5J"
      }
    },
    {
      "cell_type": "code",
      "source": [
        "\n",
        "def create_icalendar(summary, description, location, start_time, end_time):\n",
        "    cal = Calendar()\n",
        "    cal.add('prodid', '-//My calendar product//mxm.dk//')\n",
        "    cal.add('version', '2.0')\n",
        "    event = Event()\n",
        "    event.add('summary', summary)\n",
        "    event.add('description', description)\n",
        "    event.add('location', location)\n",
        "    event.add('dtstart', start_time)\n",
        "    event.add('dtend', end_time)\n",
        "    event.add('dtstamp', datetime.datetime.now())\n",
        "    event['uid'] = '20050115T101010/27346262376@mxm.dk'\n",
        "    event.add('priority', 5)\n",
        "    cal.add_component(event)\n",
        "    return cal"
      ],
      "metadata": {
        "id": "NJC0mZ_mQ-NQ"
      },
      "execution_count": null,
      "outputs": []
    },
    {
      "cell_type": "code",
      "source": [
        "'''\n",
        "create an icalendar even and then send the icalendar as an attachment to an email in a TLS session \n",
        "'''\n",
        "\n",
        "def send_email(user_name, password, subject, body, attachment, pairs_list, names_df):\n",
        "    server = smtplib.SMTP('smtp.office365.com', 587)\n",
        "    server.starttls()\n",
        "    server.login(user_name, password)\n",
        "    \n",
        "    for pair in pairs_list:\n",
        "      for name in pair:\n",
        "        msg = MIMEMultipart()\n",
        "        msg['Subject'] = subject\n",
        "        msg['From'] = user_name\n",
        "\n",
        "\n",
        "        recipient_email = names_df['E-Mail'][names_df.Vorname==name].to_list()[0]\n",
        "        mate_name = list(pair)\n",
        "        mate_name.remove(name)\n",
        "        mate_email = names_df['E-Mail'][names_df.Vorname==mate_name[0]].to_list()[0]\n",
        "\n",
        "        msg['To'] = recipient_email\n",
        "        msg.attach(MIMEText(body.format(name, mate_name[0], mate_email)))\n",
        "\n",
        "        with open(attachment, \"rb\") as f:\n",
        "          msg.attach(MIMEApplication(\n",
        "              f.read(),\n",
        "              Content_Disposition='attachment; filename=\"%s\"' % attachment,\n",
        "              Name=attachment\n",
        "          ))\n",
        "\n",
        "        server.sendmail(user_name, recipient_email, msg.as_string())\n",
        "\n",
        "    server.quit()"
      ],
      "metadata": {
        "id": "f4c1QCsu5Bkf"
      },
      "execution_count": null,
      "outputs": []
    },
    {
      "cell_type": "markdown",
      "source": [
        "# Main"
      ],
      "metadata": {
        "id": "rrT09i6EACjS"
      }
    },
    {
      "cell_type": "code",
      "source": [
        "def main(user_name, password):\n",
        "\n",
        "    summary = \"Your Coffe Date\"\n",
        "    description = \"Stay connected with your Hubject colleagues\"\n",
        "    location = \"Teams online\"\n",
        "\n",
        "    time_now = datetime.datetime.now().replace(microsecond=0, second=0, hour=11, minute=30)\n",
        "    start_time = time_now + datetime.timedelta(days=1)\n",
        "    end_time = start_time + datetime.timedelta(minutes=20)\n",
        "\n",
        "    cal = create_icalendar(summary, description, location, start_time, end_time)\n",
        "\n",
        "    # import data from google drive \n",
        "    names_df = pd.read_excel(\"/content/drive/MyDrive/Hubject/hubject_names.xlsx\")\n",
        "    names_df[\"E-Mail\"] = \"mahmoud.draz@hubject.com\"\n",
        "\n",
        "    # all possibel combinations\n",
        "    combinations = get_combinations(names_df[\"Vorname\"].tolist())\n",
        "    # sample with unifomr distirbution\n",
        "    pairs_list = random_sampling(combinations, names_df[\"Vorname\"].tolist())\n",
        "     # choose the date as string \n",
        "    date = datetime.date.today().isoformat()\n",
        "\n",
        "    body = '''\n",
        "    Hey {}, \n",
        "\n",
        "    Your Coffee date for the week with {}. And this is their Email {}. \n",
        "\n",
        "    Best, \n",
        "    Lisa\n",
        "    '''\n",
        "    with open(\"meeting.ics\", \"wb\") as f:\n",
        "        f.write(cal.to_ical())\n",
        "        \n",
        "    send_email(user_name, password, \"Your Coffee Break MAAAAATCH for this week_\" + date, body, \"meeting.ics\", pairs_list, names_df)\n",
        "        "
      ],
      "metadata": {
        "id": "x566R2B4HMOx"
      },
      "execution_count": null,
      "outputs": []
    },
    {
      "cell_type": "markdown",
      "source": [
        "# Run the code "
      ],
      "metadata": {
        "id": "1dTg3EG-sOCc"
      }
    },
    {
      "cell_type": "code",
      "source": [
        "if __name__ == \"__main__\":\n",
        "  main(user_name, password)"
      ],
      "metadata": {
        "id": "H1uQIU_UuF8_"
      },
      "execution_count": null,
      "outputs": []
    }
  ]
}